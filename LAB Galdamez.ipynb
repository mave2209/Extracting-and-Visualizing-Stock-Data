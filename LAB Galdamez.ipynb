{
  "metadata": {
    "kernelspec": {
      "name": "python",
      "display_name": "Python (Pyodide)",
      "language": "python"
    },
    "language_info": {
      "codemirror_mode": {
        "name": "python",
        "version": 3
      },
      "file_extension": ".py",
      "mimetype": "text/x-python",
      "name": "python",
      "nbconvert_exporter": "python",
      "pygments_lexer": "ipython3",
      "version": "3.8"
    },
    "prev_pub_hash": "3eff379447b11bb93fcfe9128340484c280bbca92c51ece98405a1f05537425b"
  },
  "nbformat_minor": 4,
  "nbformat": 4,
  "cells": [
    {
      "cell_type": "markdown",
      "source": "<p style=\"text-align:center\">\n    <a href=\"https://skills.network/?utm_medium=Exinfluencer&utm_source=Exinfluencer&utm_content=000026UJ&utm_term=10006555&utm_id=NA-SkillsNetwork-Channel-SkillsNetworkCoursesIBMDeveloperSkillsNetworkPY0220ENSkillsNetwork900-2022-01-01\" target=\"_blank\">\n    <img src=\"https://cf-courses-data.s3.us.cloud-object-storage.appdomain.cloud/assets/logos/SN_web_lightmode.png\" width=\"200\" alt=\"Skills Network Logo\">\n    </a>\n</p>\n",
      "metadata": {}
    },
    {
      "cell_type": "markdown",
      "source": "<h1>Extracting and Visualizing Stock Data</h1>\n<h2>Description</h2>\n",
      "metadata": {}
    },
    {
      "cell_type": "markdown",
      "source": "Extracting essential data from a dataset and displaying it is a necessary part of data science; therefore individuals can make correct decisions based on the data. In this assignment, you will extract some stock data, you will then display this data in a graph.\n",
      "metadata": {}
    },
    {
      "cell_type": "markdown",
      "source": "<h2>Table of Contents</h2>\n<div class=\"alert alert-block alert-info\" style=\"margin-top: 20px\">\n    <ul>\n        <li>Define a Function that Makes a Graph</li>\n        <li>Question 1: Use yfinance to Extract Stock Data</li>\n        <li>Question 2: Use Webscraping to Extract Tesla Revenue Data</li>\n        <li>Question 3: Use yfinance to Extract Stock Data</li>\n        <li>Question 4: Use Webscraping to Extract GME Revenue Data</li>\n        <li>Question 5: Plot Tesla Stock Graph</li>\n        <li>Question 6: Plot GameStop Stock Graph</li>\n    </ul>\n<p>\n    Estimated Time Needed: <strong>30 min</strong></p>\n</div>\n\n<hr>\n",
      "metadata": {}
    },
    {
      "cell_type": "markdown",
      "source": "***Note***:- If you are working Locally using anaconda, please uncomment the following code and execute it.\n",
      "metadata": {}
    },
    {
      "cell_type": "code",
      "source": "#!pip install yfinance==0.2.38\n#!pip install pandas==2.2.2\n#!pip install nbformat",
      "metadata": {
        "id": "43104a78-ca37-4eac-927c-15a420efe972"
      },
      "outputs": [],
      "execution_count": 14
    },
    {
      "cell_type": "code",
      "source": "!pip install yfinance\n!pip install bs4\n!pip install nbformat",
      "metadata": {
        "id": "417522d5-f077-4ccc-bed8-b428ad1936b7",
        "scrolled": true
      },
      "outputs": [
        {
          "name": "stdout",
          "text": "Requirement already satisfied: yfinance in /opt/conda/envs/Python-RT24.1/lib/python3.11/site-packages (0.2.38)\nRequirement already satisfied: pandas>=1.3.0 in /opt/conda/envs/Python-RT24.1/lib/python3.11/site-packages (from yfinance) (2.2.2)\nRequirement already satisfied: numpy>=1.16.5 in /opt/conda/envs/Python-RT24.1/lib/python3.11/site-packages (from yfinance) (1.26.4)\nRequirement already satisfied: requests>=2.31 in /opt/conda/envs/Python-RT24.1/lib/python3.11/site-packages (from yfinance) (2.32.2)\nRequirement already satisfied: multitasking>=0.0.7 in /opt/conda/envs/Python-RT24.1/lib/python3.11/site-packages (from yfinance) (0.0.11)\nRequirement already satisfied: lxml>=4.9.1 in /opt/conda/envs/Python-RT24.1/lib/python3.11/site-packages (from yfinance) (4.9.3)\nRequirement already satisfied: appdirs>=1.4.4 in /opt/conda/envs/Python-RT24.1/lib/python3.11/site-packages (from yfinance) (1.4.4)\nRequirement already satisfied: pytz>=2022.5 in /opt/conda/envs/Python-RT24.1/lib/python3.11/site-packages (from yfinance) (2024.1)\nRequirement already satisfied: frozendict>=2.3.4 in /opt/conda/envs/Python-RT24.1/lib/python3.11/site-packages (from yfinance) (2.4.6)\nRequirement already satisfied: peewee>=3.16.2 in /opt/conda/envs/Python-RT24.1/lib/python3.11/site-packages (from yfinance) (3.17.7)\nRequirement already satisfied: beautifulsoup4>=4.11.1 in /opt/conda/envs/Python-RT24.1/lib/python3.11/site-packages (from yfinance) (4.12.3)\nRequirement already satisfied: html5lib>=1.1 in /opt/conda/envs/Python-RT24.1/lib/python3.11/site-packages (from yfinance) (1.1)\nRequirement already satisfied: soupsieve>1.2 in /opt/conda/envs/Python-RT24.1/lib/python3.11/site-packages (from beautifulsoup4>=4.11.1->yfinance) (2.5)\nRequirement already satisfied: six>=1.9 in /opt/conda/envs/Python-RT24.1/lib/python3.11/site-packages (from html5lib>=1.1->yfinance) (1.16.0)\nRequirement already satisfied: webencodings in /opt/conda/envs/Python-RT24.1/lib/python3.11/site-packages (from html5lib>=1.1->yfinance) (0.5.1)\nRequirement already satisfied: python-dateutil>=2.8.2 in /opt/conda/envs/Python-RT24.1/lib/python3.11/site-packages (from pandas>=1.3.0->yfinance) (2.8.2)\nRequirement already satisfied: tzdata>=2022.7 in /opt/conda/envs/Python-RT24.1/lib/python3.11/site-packages (from pandas>=1.3.0->yfinance) (2023.3)\nRequirement already satisfied: charset-normalizer<4,>=2 in /opt/conda/envs/Python-RT24.1/lib/python3.11/site-packages (from requests>=2.31->yfinance) (2.0.4)\nRequirement already satisfied: idna<4,>=2.5 in /opt/conda/envs/Python-RT24.1/lib/python3.11/site-packages (from requests>=2.31->yfinance) (3.7)\nRequirement already satisfied: urllib3<3,>=1.21.1 in /opt/conda/envs/Python-RT24.1/lib/python3.11/site-packages (from requests>=2.31->yfinance) (1.26.19)\nRequirement already satisfied: certifi>=2017.4.17 in /opt/conda/envs/Python-RT24.1/lib/python3.11/site-packages (from requests>=2.31->yfinance) (2024.8.30)\nRequirement already satisfied: bs4 in /opt/conda/envs/Python-RT24.1/lib/python3.11/site-packages (0.0.2)\nRequirement already satisfied: beautifulsoup4 in /opt/conda/envs/Python-RT24.1/lib/python3.11/site-packages (from bs4) (4.12.3)\nRequirement already satisfied: soupsieve>1.2 in /opt/conda/envs/Python-RT24.1/lib/python3.11/site-packages (from beautifulsoup4->bs4) (2.5)\nRequirement already satisfied: nbformat in /opt/conda/envs/Python-RT24.1/lib/python3.11/site-packages (5.9.2)\nRequirement already satisfied: fastjsonschema in /opt/conda/envs/Python-RT24.1/lib/python3.11/site-packages (from nbformat) (2.16.2)\nRequirement already satisfied: jsonschema>=2.6 in /opt/conda/envs/Python-RT24.1/lib/python3.11/site-packages (from nbformat) (4.19.2)\nRequirement already satisfied: jupyter-core in /opt/conda/envs/Python-RT24.1/lib/python3.11/site-packages (from nbformat) (5.5.0)\nRequirement already satisfied: traitlets>=5.1 in /opt/conda/envs/Python-RT24.1/lib/python3.11/site-packages (from nbformat) (5.7.1)\nRequirement already satisfied: attrs>=22.2.0 in /opt/conda/envs/Python-RT24.1/lib/python3.11/site-packages (from jsonschema>=2.6->nbformat) (23.1.0)\nRequirement already satisfied: jsonschema-specifications>=2023.03.6 in /opt/conda/envs/Python-RT24.1/lib/python3.11/site-packages (from jsonschema>=2.6->nbformat) (2023.7.1)\nRequirement already satisfied: referencing>=0.28.4 in /opt/conda/envs/Python-RT24.1/lib/python3.11/site-packages (from jsonschema>=2.6->nbformat) (0.30.2)\nRequirement already satisfied: rpds-py>=0.7.1 in /opt/conda/envs/Python-RT24.1/lib/python3.11/site-packages (from jsonschema>=2.6->nbformat) (0.10.6)\nRequirement already satisfied: platformdirs>=2.5 in /opt/conda/envs/Python-RT24.1/lib/python3.11/site-packages (from jupyter-core->nbformat) (3.10.0)\n",
          "output_type": "stream"
        }
      ],
      "execution_count": 15
    },
    {
      "cell_type": "code",
      "source": "import yfinance as yf\nimport pandas as pd\nimport requests\nfrom bs4 import BeautifulSoup\nimport plotly.graph_objects as go\nfrom plotly.subplots import make_subplots",
      "metadata": {
        "id": "9ed7dd55-d7f1-4c7c-a0dd-8cedf9cc0793"
      },
      "outputs": [],
      "execution_count": 37
    },
    {
      "cell_type": "markdown",
      "source": "In Python, you can ignore warnings using the warnings module. You can use the filterwarnings function to filter or ignore specific warning messages or categories.\n",
      "metadata": {}
    },
    {
      "cell_type": "code",
      "source": "import warnings\n# Ignore all warnings\nwarnings.filterwarnings(\"ignore\", category=FutureWarning)",
      "metadata": {
        "id": "52d416b8-fbcc-47df-b2b8-dec04ae9b183"
      },
      "outputs": [],
      "execution_count": 38
    },
    {
      "cell_type": "markdown",
      "source": "## Define Graphing Function\n",
      "metadata": {}
    },
    {
      "cell_type": "markdown",
      "source": "In this section, we define the function `make_graph`. **You don't have to know how the function works, you should only care about the inputs. It takes a dataframe with stock data (dataframe must contain Date and Close columns), a dataframe with revenue data (dataframe must contain Date and Revenue columns), and the name of the stock.**\n",
      "metadata": {}
    },
    {
      "cell_type": "code",
      "source": "def make_graph(stock_data, revenue_data, stock):\n    fig = make_subplots(rows=2, cols=1, shared_xaxes=True, subplot_titles=(\"Historical Share Price\", \"Historical Revenue\"), vertical_spacing = .3)\n    stock_data_specific = stock_data[stock_data.Date <= '2021-06-14']\n    revenue_data_specific = revenue_data[revenue_data.Date <= '2021-04-30']\n    fig.add_trace(go.Scatter(x=pd.to_datetime(stock_data_specific.Date), y=stock_data_specific.Close.astype(\"float\"), name=\"Share Price\"), row=1, col=1)\n    fig.add_trace(go.Scatter(x=pd.to_datetime(revenue_data_specific.Date), y=revenue_data_specific.Revenue.astype(\"float\"), name=\"Revenue\"), row=2, col=1)\n    fig.update_xaxes(title_text=\"Date\", row=1, col=1)\n    fig.update_xaxes(title_text=\"Date\", row=2, col=1)\n    fig.update_yaxes(title_text=\"Price ($US)\", row=1, col=1)\n    fig.update_yaxes(title_text=\"Revenue ($US Millions)\", row=2, col=1)\n    fig.update_layout(showlegend=False,\n    height=900,\n    title=stock,\n    xaxis_rangeslider_visible=True)\n    fig.show()",
      "metadata": {
        "id": "c83f7670-7aa0-410a-8250-d4cab0f93be1"
      },
      "outputs": [],
      "execution_count": 52
    },
    {
      "cell_type": "markdown",
      "source": "Use the make_graph function that we’ve already defined. You’ll need to invoke it in questions 5 and 6 to display the graphs and create the dashboard. \n> **Note: You don’t need to redefine the function for plotting graphs anywhere else in this notebook; just use the existing function.**\n",
      "metadata": {}
    },
    {
      "cell_type": "markdown",
      "source": "## Question 1: Use yfinance to Extract Stock Data\n",
      "metadata": {}
    },
    {
      "cell_type": "markdown",
      "source": "Using the `Ticker` function enter the ticker symbol of the stock we want to extract data on to create a ticker object. The stock is Tesla and its ticker symbol is `TSLA`.\n",
      "metadata": {}
    },
    {
      "cell_type": "code",
      "source": "# Ticker para Tesla (TSLA)\ntesla = yf.Ticker(\"TSLA\")",
      "metadata": {
        "id": "adc68646-dd94-4d31-9d24-2679af39df97"
      },
      "outputs": [],
      "execution_count": 53
    },
    {
      "cell_type": "markdown",
      "source": "Using the ticker object and the function `history` extract stock information and save it in a dataframe named `tesla_data`. Set the `period` parameter to ` \"max\" ` so we get information for the maximum amount of time.\n",
      "metadata": {}
    },
    {
      "cell_type": "code",
      "source": "# Datos históricos con el periodo máximo\ntesla_data = tesla.history(period=\"max\")",
      "metadata": {
        "id": "f3758b94-42ad-4573-a094-d4177a2b2216"
      },
      "outputs": [],
      "execution_count": 54
    },
    {
      "cell_type": "markdown",
      "source": "**Reset the index** using the `reset_index(inplace=True)` function on the tesla_data DataFrame and display the first five rows of the `tesla_data` dataframe using the `head` function. Take a screenshot of the results and code from the beginning of Question 1 to the results below.\n",
      "metadata": {}
    },
    {
      "cell_type": "code",
      "source": "# Reiniciar el índice\ntesla_data.reset_index(inplace=True)\n\n# Primeras cinco filas\nprint(tesla_data.head())",
      "metadata": {
        "id": "a02aeb07-5f37-49ff-8a35-f423c9206375"
      },
      "outputs": [
        {
          "name": "stdout",
          "text": "                       Date      Open      High       Low     Close  \\\n0 2010-06-29 00:00:00-04:00  1.266667  1.666667  1.169333  1.592667   \n1 2010-06-30 00:00:00-04:00  1.719333  2.028000  1.553333  1.588667   \n2 2010-07-01 00:00:00-04:00  1.666667  1.728000  1.351333  1.464000   \n3 2010-07-02 00:00:00-04:00  1.533333  1.540000  1.247333  1.280000   \n4 2010-07-06 00:00:00-04:00  1.333333  1.333333  1.055333  1.074000   \n\n      Volume  Dividends  Stock Splits  \n0  281494500        0.0           0.0  \n1  257806500        0.0           0.0  \n2  123282000        0.0           0.0  \n3   77097000        0.0           0.0  \n4  103003500        0.0           0.0  \n",
          "output_type": "stream"
        }
      ],
      "execution_count": 55
    },
    {
      "cell_type": "markdown",
      "source": "## Question 2: Use Webscraping to Extract Tesla Revenue Data\n",
      "metadata": {}
    },
    {
      "cell_type": "markdown",
      "source": "Use the `requests` library to download the webpage https://cf-courses-data.s3.us.cloud-object-storage.appdomain.cloud/IBMDeveloperSkillsNetwork-PY0220EN-SkillsNetwork/labs/project/revenue.htm Save the text of the response as a variable named `html_data`.\n",
      "metadata": {}
    },
    {
      "cell_type": "code",
      "source": "# Descarga\nurl_tesla = \"https://cf-courses-data.s3.us.cloud-object-storage.appdomain.cloud/IBMDeveloperSkillsNetwork-PY0220EN-SkillsNetwork/labs/project/revenue.htm\"\nresponse = requests.get(url_tesla)\nhtml_data = response.text",
      "metadata": {
        "id": "1919aa0a-18b9-439f-a163-2f6b9c2657e3"
      },
      "outputs": [],
      "execution_count": 56
    },
    {
      "cell_type": "markdown",
      "source": "Parse the html data using `beautiful_soup` using parser i.e `html5lib` or `html.parser`. Make sure to use the `html_data` with the content parameter as follow `html_data.content` .\n",
      "metadata": {}
    },
    {
      "cell_type": "code",
      "source": "# Parsear HTML\nsoup = BeautifulSoup(html_data, \"html.parser\")",
      "metadata": {
        "id": "cad89c53-b44e-4060-abc0-641127657b25"
      },
      "outputs": [],
      "execution_count": 57
    },
    {
      "cell_type": "markdown",
      "source": "Using `BeautifulSoup` or the `read_html` function extract the table with `Tesla Revenue` and store it into a dataframe named `tesla_revenue`. The dataframe should have columns `Date` and `Revenue`.\n",
      "metadata": {}
    },
    {
      "cell_type": "markdown",
      "source": "<details><summary>Step-by-step instructions</summary>\n\n```\n\nHere are the step-by-step instructions:\n\n1. Find All Tables: Start by searching for all HTML tables on a webpage using `soup.find_all('table')`.\n2. Identify the Relevant Table: then loops through each table. If a table contains the text “Tesla Quarterly Revenue,”, select that table.\n3. Initialize a DataFrame: Create an empty Pandas DataFrame called `tesla_revenue` with columns “Date” and “Revenue.”\n4. Loop Through Rows: For each row in the relevant table, extract the data from the first and second columns (date and revenue).\n5. Clean Revenue Data: Remove dollar signs and commas from the revenue value.\n6. Add Rows to DataFrame: Create a new row in the DataFrame with the extracted date and cleaned revenue values.\n7. Repeat for All Rows: Continue this process for all rows in the table.\n\n```\n</details>\n",
      "metadata": {
        "id": "134148f3-2376-4fdd-bd77-42dcbb682f49"
      }
    },
    {
      "cell_type": "markdown",
      "source": "<details><summary>Click here if you need help locating the table</summary>\n\n```\n    \nBelow is the code to isolate the table, you will now need to loop through the rows and columns like in the previous lab\n    \nsoup.find_all(\"tbody\")[1]\n    \nIf you want to use the read_html function the table is located at index 1\n\nWe are focusing on quarterly revenue in the lab.\n> Note: Instead of using the deprecated pd.append() method, consider using pd.concat([df, pd.DataFrame], ignore_index=True).\n```\n\n</details>\n",
      "metadata": {}
    },
    {
      "cell_type": "code",
      "source": "#Extraer la tabla \ntesla_revenue = pd.read_html(str(soup))[0]\n# Renombrar columnas\ntesla_revenue.columns = [\"Date\", \"Revenue\"]",
      "metadata": {
        "id": "fce2031c-1920-44d3-8b81-15f87335338f"
      },
      "outputs": [],
      "execution_count": 58
    },
    {
      "cell_type": "markdown",
      "source": "Execute the following line to remove the comma and dollar sign from the `Revenue` column. \n",
      "metadata": {}
    },
    {
      "cell_type": "code",
      "source": "tesla_revenue[\"Revenue\"] = tesla_revenue['Revenue'].str.replace(',|\\$',\"\", regex=True)",
      "metadata": {
        "id": "d40fffa6-25ed-4c00-9016-58d9e10ecfa5"
      },
      "outputs": [],
      "execution_count": 59
    },
    {
      "cell_type": "markdown",
      "source": "Execute the following lines to remove an null or empty strings in the Revenue column.\n",
      "metadata": {}
    },
    {
      "cell_type": "code",
      "source": "tesla_revenue.dropna(inplace=True)\n\ntesla_revenue = tesla_revenue[tesla_revenue['Revenue'] != \"\"]",
      "metadata": {
        "id": "b67bed58-7148-404e-a592-57cf1ad66694"
      },
      "outputs": [],
      "execution_count": 60
    },
    {
      "cell_type": "markdown",
      "source": "Display the last 5 row of the `tesla_revenue` dataframe using the `tail` function. Take a screenshot of the results.\n",
      "metadata": {}
    },
    {
      "cell_type": "code",
      "source": "# Últimas cinco filas\nprint(tesla_revenue.tail())",
      "metadata": {
        "id": "dda45809-083f-4b60-9afe-e645778c62da"
      },
      "outputs": [
        {
          "name": "stdout",
          "text": "    Date Revenue\n8   2013    2013\n9   2012     413\n10  2011     204\n11  2010     117\n12  2009     112\n",
          "output_type": "stream"
        }
      ],
      "execution_count": 61
    },
    {
      "cell_type": "markdown",
      "source": "## Question 3: Use yfinance to Extract Stock Data\n",
      "metadata": {}
    },
    {
      "cell_type": "markdown",
      "source": "Using the `Ticker` function enter the ticker symbol of the stock we want to extract data on to create a ticker object. The stock is GameStop and its ticker symbol is `GME`.\n",
      "metadata": {}
    },
    {
      "cell_type": "code",
      "source": "#Ticker para GameStop (GME)\ngme = yf.Ticker(\"GME\")",
      "metadata": {
        "id": "06bdc26b-a7d4-48e3-a85a-057b2b48c568"
      },
      "outputs": [],
      "execution_count": 62
    },
    {
      "cell_type": "markdown",
      "source": "Using the ticker object and the function `history` extract stock information and save it in a dataframe named `gme_data`. Set the `period` parameter to ` \"max\" ` so we get information for the maximum amount of time.\n",
      "metadata": {}
    },
    {
      "cell_type": "code",
      "source": "#Datos históricos con el periodo máximo\ngme_data = gme.history(period=\"max\")",
      "metadata": {
        "id": "5b91fe5b-3140-4dea-90c6-c9a89fb3ef08"
      },
      "outputs": [],
      "execution_count": 63
    },
    {
      "cell_type": "markdown",
      "source": "**Reset the index** using the `reset_index(inplace=True)` function on the gme_data DataFrame and display the first five rows of the `gme_data` dataframe using the `head` function. Take a screenshot of the results and code from the beginning of Question 3 to the results below.\n",
      "metadata": {}
    },
    {
      "cell_type": "code",
      "source": "# Reinicio del índice\ngme_data.reset_index(inplace=True)\n\n# Primeras cinco filas\nprint(gme_data.head())",
      "metadata": {
        "id": "cf1476cc-fddf-4e5b-87d7-3cb10efc2b35"
      },
      "outputs": [
        {
          "name": "stdout",
          "text": "                       Date      Open      High       Low     Close    Volume  \\\n0 2002-02-13 00:00:00-05:00  1.620128  1.693350  1.603296  1.691667  76216000   \n1 2002-02-14 00:00:00-05:00  1.712707  1.716074  1.670626  1.683251  11021600   \n2 2002-02-15 00:00:00-05:00  1.683251  1.687459  1.658002  1.674834   8389600   \n3 2002-02-19 00:00:00-05:00  1.666418  1.666418  1.578047  1.607504   7410400   \n4 2002-02-20 00:00:00-05:00  1.615920  1.662210  1.603296  1.662210   6892800   \n\n   Dividends  Stock Splits  \n0        0.0           0.0  \n1        0.0           0.0  \n2        0.0           0.0  \n3        0.0           0.0  \n4        0.0           0.0  \n",
          "output_type": "stream"
        }
      ],
      "execution_count": 64
    },
    {
      "cell_type": "markdown",
      "source": "## Question 4: Use Webscraping to Extract GME Revenue Data\n",
      "metadata": {}
    },
    {
      "cell_type": "markdown",
      "source": "Use the `requests` library to download the webpage https://cf-courses-data.s3.us.cloud-object-storage.appdomain.cloud/IBMDeveloperSkillsNetwork-PY0220EN-SkillsNetwork/labs/project/stock.html. Save the text of the response as a variable named `html_data_2`.\n",
      "metadata": {}
    },
    {
      "cell_type": "code",
      "source": "# Descargaa\nurl_gme = \"https://cf-courses-data.s3.us.cloud-object-storage.appdomain.cloud/IBMDeveloperSkillsNetwork-PY0220EN-SkillsNetwork/labs/project/stock.html\"\nresponse = requests.get(url_gme)\nhtml_data_2 = response.text",
      "metadata": {
        "id": "74d90346-0c5c-4d30-bef5-7393925e8f8d"
      },
      "outputs": [],
      "execution_count": 65
    },
    {
      "cell_type": "markdown",
      "source": "Parse the html data using `beautiful_soup` using parser i.e `html5lib` or `html.parser`.\n",
      "metadata": {}
    },
    {
      "cell_type": "code",
      "source": "# Parsear el HTML\nsoup = BeautifulSoup(html_data_2, \"html.parser\")",
      "metadata": {
        "id": "939878e0-f32f-4837-8ada-2e08d77d82ed"
      },
      "outputs": [],
      "execution_count": 66
    },
    {
      "cell_type": "markdown",
      "source": "Using `BeautifulSoup` or the `read_html` function extract the table with `GameStop Revenue` and store it into a dataframe named `gme_revenue`. The dataframe should have columns `Date` and `Revenue`. Make sure the comma and dollar sign is removed from the `Revenue` column.\n",
      "metadata": {}
    },
    {
      "cell_type": "markdown",
      "source": "> **Note: Use the method similar to what you did in question 2.**  \n",
      "metadata": {}
    },
    {
      "cell_type": "markdown",
      "source": "<details><summary>Click here if you need help locating the table</summary>\n\n```\n    \nBelow is the code to isolate the table, you will now need to loop through the rows and columns like in the previous lab\n    \nsoup.find_all(\"tbody\")[1]\n    \nIf you want to use the read_html function the table is located at index 1\n\n\n```\n\n</details>\n",
      "metadata": {}
    },
    {
      "cell_type": "code",
      "source": "# Extraer la tabla\ngme_revenue = pd.read_html(str(soup))[0]\n\n#Quitar la coma y el signo de dólar de la columna. Revenue\ngme_revenue.columns = [\"Date\", \"Revenue\"]\n\n#Quitar cadenas nulas o vacías en la columna Ingresos.\ngme_revenue[\"Revenue\"] = gme_revenue[\"Revenue\"].str.replace(\",|\\$\", \"\", regex=True)",
      "metadata": {
        "id": "6f950677-6cda-463d-a464-06e63f548c2f"
      },
      "outputs": [],
      "execution_count": 67
    },
    {
      "cell_type": "markdown",
      "source": "Display the last five rows of the `gme_revenue` dataframe using the `tail` function. Take a screenshot of the results.\n",
      "metadata": {}
    },
    {
      "cell_type": "code",
      "source": "#Últimas cinco filas\nprint(gme_revenue.tail())",
      "metadata": {
        "id": "82b87220-f428-44fd-ae67-f7f137e9baa3"
      },
      "outputs": [
        {
          "name": "stdout",
          "text": "    Date Revenue\n11  2009    8806\n12  2008    7094\n13  2007    5319\n14  2006    3092\n15  2005    1843\n",
          "output_type": "stream"
        }
      ],
      "execution_count": 68
    },
    {
      "cell_type": "markdown",
      "source": "## Question 5: Plot Tesla Stock Graph\n",
      "metadata": {}
    },
    {
      "cell_type": "markdown",
      "source": "Use the `make_graph` function to graph the Tesla Stock Data, also provide a title for the graph. Note the graph will only show data upto June 2021.\n",
      "metadata": {}
    },
    {
      "cell_type": "markdown",
      "source": "<details><summary>Hint</summary>\n\n```\n\nYou just need to invoke the make_graph function with the required parameter to print the graphs.The structure to call the `make_graph` function is `make_graph(tesla_data, tesla_revenue, 'Tesla')`.\n\n```\n    \n</details>\n",
      "metadata": {}
    },
    {
      "cell_type": "code",
      "source": "make_graph(tesla_data, tesla_revenue, 'Tesla')",
      "metadata": {
        "id": "8cd24a59-70a8-441f-a47a-84599f889ae2"
      },
      "outputs": [],
      "execution_count": null
    },
    {
      "cell_type": "markdown",
      "source": "## Question 6: Plot GameStop Stock Graph\n",
      "metadata": {}
    },
    {
      "cell_type": "markdown",
      "source": "Use the `make_graph` function to graph the GameStop Stock Data, also provide a title for the graph. The structure to call the `make_graph` function is `make_graph(gme_data, gme_revenue, 'GameStop')`. Note the graph will only show data upto June 2021.\n",
      "metadata": {}
    },
    {
      "cell_type": "markdown",
      "source": "<details><summary>Hint</summary>\n\n```\n\nYou just need to invoke the make_graph function with the required parameter to print the graphs.The structure to call the `make_graph` function is `make_graph(gme_data, gme_revenue, 'GameStop')`\n\n```\n    \n</details>\n",
      "metadata": {}
    },
    {
      "cell_type": "code",
      "source": "make_graph(gme_data, gme_revenue, 'GameStop')",
      "metadata": {
        "id": "3c1ea07c-d807-476a-913c-33f272f63506"
      },
      "outputs": [],
      "execution_count": null
    },
    {
      "cell_type": "markdown",
      "source": "<h2>About the Authors:</h2> \n\n<a href=\"https://www.linkedin.com/in/joseph-s-50398b136/\">Joseph Santarcangelo</a> has a PhD in Electrical Engineering, his research focused on using machine learning, signal processing, and computer vision to determine how videos impact human cognition. Joseph has been working for IBM since he completed his PhD.\n",
      "metadata": {}
    },
    {
      "cell_type": "markdown",
      "source": "## <h3 align=\"center\"> © IBM Corporation 2020. All rights reserved. <h3/>\n\n```toggle ## Change Log\n```\n```toggle | Date (YYYY-MM-DD) | Version | Changed By    | Change Description        |\n```\n```toggle | ----------------- | ------- | ------------- | ------------------------- |\n```\n```toggle | 2022-02-28        | 1.2     | Lakshmi Holla | Changed the URL of GameStop |\n```\n```toggle | 2020-11-10        | 1.1     | Malika Singla | Deleted the Optional part |\n```\n```toggle | 2020-08-27        | 1.0     | Malika Singla | Added lab to GitLab       |\n```\n",
      "metadata": {}
    },
    {
      "cell_type": "code",
      "source": "",
      "metadata": {
        "id": "5a7bfe12-0194-4cb1-8dd9-2cf72bb0bb35"
      },
      "outputs": [],
      "execution_count": null
    }
  ]
}